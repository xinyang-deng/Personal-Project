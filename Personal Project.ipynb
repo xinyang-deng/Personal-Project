{
 "cells": [
  {
   "cell_type": "markdown",
   "id": "b2642555-0eca-4c78-a816-76a552d54669",
   "metadata": {},
   "source": [
    "# Analysis of Which factors can Affact Customer's Feedback of Online Food Service"
   ]
  },
  {
   "cell_type": "markdown",
   "id": "843507a3-b7a5-4cd1-9913-97493685dfa5",
   "metadata": {},
   "source": [
    "## 1 Introduction\n",
    "### 1.1 Background Information\n",
    "Nowadays, ordering online food is a quick and convenient for people who are busy or lazy to cook. Many platforms appear and provide a way of enjoying food from nearest restuarants through delivery. As online food ordering becomes more and more popular, it is essential and needful for sellers from platforms to find their main and potential customers.\n",
    "### 1.2 Dataset Description\n",
    "The dataset contains information collected from an online food ordering platform over a period of time. It encompasses various attributes related to Occupation, Family Size, Feedback etc..\n",
    "\n",
    "This dataset is from kaggle: https://www.kaggle.com/datasets/sudarshan24byte/online-food-dataset"
   ]
  },
  {
   "cell_type": "code",
   "execution_count": 3,
   "id": "5da50940-6880-43a7-8ca7-1ea39f0ab0d5",
   "metadata": {
    "scrolled": true
   },
   "outputs": [
    {
     "data": {
      "text/html": [
       "<table class=\"dataframe\">\n",
       "<caption>A data.frame: 12 × 2</caption>\n",
       "<thead>\n",
       "\t<tr><th scope=col>Attributes</th><th scope=col>Description</th></tr>\n",
       "\t<tr><th scope=col>&lt;chr&gt;</th><th scope=col>&lt;chr&gt;</th></tr>\n",
       "</thead>\n",
       "<tbody>\n",
       "\t<tr><td>Age                       </td><td>Age of the customer                                        </td></tr>\n",
       "\t<tr><td>Gender                    </td><td>Gender of the customer                                     </td></tr>\n",
       "\t<tr><td>Martial Status            </td><td>Marital status of the customer                             </td></tr>\n",
       "\t<tr><td>Occupation                </td><td>Occupation of the customer                                 </td></tr>\n",
       "\t<tr><td>Monthly Income            </td><td>Monthly income of the customer                             </td></tr>\n",
       "\t<tr><td>Educational Qualifications</td><td>Educational qualifications of the customer                 </td></tr>\n",
       "\t<tr><td>Family Size               </td><td>Number of individuals in the customer's family             </td></tr>\n",
       "\t<tr><td>Latitude                  </td><td>Latitude of the customer's location                        </td></tr>\n",
       "\t<tr><td>Longitude                 </td><td>Longitude of the customer's location                       </td></tr>\n",
       "\t<tr><td>Pin Code                  </td><td>Pin code of the customer's location                        </td></tr>\n",
       "\t<tr><td>Output                    </td><td>Current status of the order                                </td></tr>\n",
       "\t<tr><td>Feedback                  </td><td>Feedback provided by the customer after receiving the order</td></tr>\n",
       "</tbody>\n",
       "</table>\n"
      ],
      "text/latex": [
       "A data.frame: 12 × 2\n",
       "\\begin{tabular}{ll}\n",
       " Attributes & Description\\\\\n",
       " <chr> & <chr>\\\\\n",
       "\\hline\n",
       "\t Age                        & Age of the customer                                        \\\\\n",
       "\t Gender                     & Gender of the customer                                     \\\\\n",
       "\t Martial Status             & Marital status of the customer                             \\\\\n",
       "\t Occupation                 & Occupation of the customer                                 \\\\\n",
       "\t Monthly Income             & Monthly income of the customer                             \\\\\n",
       "\t Educational Qualifications & Educational qualifications of the customer                 \\\\\n",
       "\t Family Size                & Number of individuals in the customer's family             \\\\\n",
       "\t Latitude                   & Latitude of the customer's location                        \\\\\n",
       "\t Longitude                  & Longitude of the customer's location                       \\\\\n",
       "\t Pin Code                   & Pin code of the customer's location                        \\\\\n",
       "\t Output                     & Current status of the order                                \\\\\n",
       "\t Feedback                   & Feedback provided by the customer after receiving the order\\\\\n",
       "\\end{tabular}\n"
      ],
      "text/markdown": [
       "\n",
       "A data.frame: 12 × 2\n",
       "\n",
       "| Attributes &lt;chr&gt; | Description &lt;chr&gt; |\n",
       "|---|---|\n",
       "| Age                        | Age of the customer                                         |\n",
       "| Gender                     | Gender of the customer                                      |\n",
       "| Martial Status             | Marital status of the customer                              |\n",
       "| Occupation                 | Occupation of the customer                                  |\n",
       "| Monthly Income             | Monthly income of the customer                              |\n",
       "| Educational Qualifications | Educational qualifications of the customer                  |\n",
       "| Family Size                | Number of individuals in the customer's family              |\n",
       "| Latitude                   | Latitude of the customer's location                         |\n",
       "| Longitude                  | Longitude of the customer's location                        |\n",
       "| Pin Code                   | Pin code of the customer's location                         |\n",
       "| Output                     | Current status of the order                                 |\n",
       "| Feedback                   | Feedback provided by the customer after receiving the order |\n",
       "\n"
      ],
      "text/plain": [
       "   Attributes                \n",
       "1  Age                       \n",
       "2  Gender                    \n",
       "3  Martial Status            \n",
       "4  Occupation                \n",
       "5  Monthly Income            \n",
       "6  Educational Qualifications\n",
       "7  Family Size               \n",
       "8  Latitude                  \n",
       "9  Longitude                 \n",
       "10 Pin Code                  \n",
       "11 Output                    \n",
       "12 Feedback                  \n",
       "   Description                                                \n",
       "1  Age of the customer                                        \n",
       "2  Gender of the customer                                     \n",
       "3  Marital status of the customer                             \n",
       "4  Occupation of the customer                                 \n",
       "5  Monthly income of the customer                             \n",
       "6  Educational qualifications of the customer                 \n",
       "7  Number of individuals in the customer's family             \n",
       "8  Latitude of the customer's location                        \n",
       "9  Longitude of the customer's location                       \n",
       "10 Pin code of the customer's location                        \n",
       "11 Current status of the order                                \n",
       "12 Feedback provided by the customer after receiving the order"
      ]
     },
     "metadata": {},
     "output_type": "display_data"
    }
   ],
   "source": [
    "data.frame(\n",
    "Attributes = c(\"Age\",\"Gender\",\"Martial Status\",\"Occupation\", \"Monthly Income\",\"Educational Qualifications\",\"Family Size\",\"Latitude\",\"Longitude\",\"Pin Code\",\"Output\",\"Feedback\"),\n",
    "Description = c(\"Age of the customer\",\"Gender of the customer\",\"Marital status of the customer\",\"Occupation of the customer\",\"Monthly income of the customer\",\"Educational qualifications of the customer\",\"Number of individuals in the customer's family\",\"Latitude of the customer's location\",\"Longitude of the customer's location\",\"Pin code of the customer's location\",\"Current status of the order\",\"Feedback provided by the customer after receiving the order\")\n",
    ")"
   ]
  },
  {
   "cell_type": "markdown",
   "id": "5a2ac174-f7a3-4df5-bdaf-1309eea2fb90",
   "metadata": {},
   "source": [
    "### 1.3 Project Question\n",
    "The research question of my project is to find most relavant explanatory variables related to response variable, the feedback of customers, which will be helpful in finding potential customers in the future.\n",
    "- Find a inference model of feedbak"
   ]
  },
  {
   "cell_type": "markdown",
   "id": "d2416d3f-3b59-48c2-90d1-91dd093ccb29",
   "metadata": {},
   "source": [
    "## 2 Preliminary Results\n",
    "### 2.1 Improting Dataset"
   ]
  },
  {
   "cell_type": "code",
   "execution_count": 20,
   "id": "4e7ac64a-28c6-4f7a-aef5-605f7d6c1a46",
   "metadata": {},
   "outputs": [],
   "source": [
    "install.packages(\"cowplot\", lib = '/home/jupyter/R/x86_64-pc-linux-gnu-library/4.3')\n",
    "install.packages(\"moderndive\", lib = '/home/jupyter/R/x86_64-pc-linux-gnu-library/4.3')\n",
    "install.packages(\"leaps\", lib = '/home/jupyter/R/x86_64-pc-linux-gnu-library/4.3')"
   ]
  },
  {
   "cell_type": "code",
   "execution_count": 21,
   "id": "70cd5e07-f803-431d-b103-1bf2ca424ddf",
   "metadata": {},
   "outputs": [],
   "source": [
    "library(tidyverse)\n",
    "library(repr)\n",
    "library(ggplot2)\n",
    "library(cowplot)\n",
    "library(moderndive)\n",
    "library(broom)\n",
    "library(infer)\n",
    "library(GGally)\n",
    "library(leaps)"
   ]
  },
  {
   "cell_type": "code",
   "execution_count": 81,
   "id": "ed8e44db-8362-4753-a980-9490e8504153",
   "metadata": {},
   "outputs": [
    {
     "data": {
      "text/html": [
       "<table class=\"dataframe\">\n",
       "<caption>A data.frame: 6 × 12</caption>\n",
       "<thead>\n",
       "\t<tr><th></th><th scope=col>Age</th><th scope=col>Gender</th><th scope=col>Marital.Status</th><th scope=col>Occupation</th><th scope=col>Monthly.Income</th><th scope=col>Educational.Qualifications</th><th scope=col>Family.size</th><th scope=col>latitude</th><th scope=col>longitude</th><th scope=col>Pin.code</th><th scope=col>Output</th><th scope=col>Feedback</th></tr>\n",
       "\t<tr><th></th><th scope=col>&lt;int&gt;</th><th scope=col>&lt;fct&gt;</th><th scope=col>&lt;fct&gt;</th><th scope=col>&lt;fct&gt;</th><th scope=col>&lt;fct&gt;</th><th scope=col>&lt;fct&gt;</th><th scope=col>&lt;int&gt;</th><th scope=col>&lt;dbl&gt;</th><th scope=col>&lt;dbl&gt;</th><th scope=col>&lt;int&gt;</th><th scope=col>&lt;fct&gt;</th><th scope=col>&lt;fct&gt;</th></tr>\n",
       "</thead>\n",
       "<tbody>\n",
       "\t<tr><th scope=row>1</th><td>20</td><td>Female</td><td>Single </td><td>Student </td><td>No Income      </td><td>Post Graduate</td><td>4</td><td>12.9766</td><td>77.5993</td><td>560001</td><td>Yes</td><td>Positive </td></tr>\n",
       "\t<tr><th scope=row>2</th><td>24</td><td>Female</td><td>Single </td><td>Student </td><td>Below Rs.10000 </td><td>Graduate     </td><td>3</td><td>12.9770</td><td>77.5773</td><td>560009</td><td>Yes</td><td>Positive </td></tr>\n",
       "\t<tr><th scope=row>3</th><td>22</td><td>Male  </td><td>Single </td><td>Student </td><td>Below Rs.10000 </td><td>Post Graduate</td><td>3</td><td>12.9551</td><td>77.6593</td><td>560017</td><td>Yes</td><td>Negative </td></tr>\n",
       "\t<tr><th scope=row>4</th><td>22</td><td>Female</td><td>Single </td><td>Student </td><td>No Income      </td><td>Graduate     </td><td>6</td><td>12.9473</td><td>77.5616</td><td>560019</td><td>Yes</td><td>Positive </td></tr>\n",
       "\t<tr><th scope=row>5</th><td>22</td><td>Male  </td><td>Single </td><td>Student </td><td>Below Rs.10000 </td><td>Post Graduate</td><td>4</td><td>12.9850</td><td>77.5533</td><td>560010</td><td>Yes</td><td>Positive </td></tr>\n",
       "\t<tr><th scope=row>6</th><td>27</td><td>Female</td><td>Married</td><td>Employee</td><td>More than 50000</td><td>Post Graduate</td><td>2</td><td>12.9299</td><td>77.6848</td><td>560103</td><td>Yes</td><td>Positive </td></tr>\n",
       "</tbody>\n",
       "</table>\n"
      ],
      "text/latex": [
       "A data.frame: 6 × 12\n",
       "\\begin{tabular}{r|llllllllllll}\n",
       "  & Age & Gender & Marital.Status & Occupation & Monthly.Income & Educational.Qualifications & Family.size & latitude & longitude & Pin.code & Output & Feedback\\\\\n",
       "  & <int> & <fct> & <fct> & <fct> & <fct> & <fct> & <int> & <dbl> & <dbl> & <int> & <fct> & <fct>\\\\\n",
       "\\hline\n",
       "\t1 & 20 & Female & Single  & Student  & No Income       & Post Graduate & 4 & 12.9766 & 77.5993 & 560001 & Yes & Positive \\\\\n",
       "\t2 & 24 & Female & Single  & Student  & Below Rs.10000  & Graduate      & 3 & 12.9770 & 77.5773 & 560009 & Yes & Positive \\\\\n",
       "\t3 & 22 & Male   & Single  & Student  & Below Rs.10000  & Post Graduate & 3 & 12.9551 & 77.6593 & 560017 & Yes & Negative \\\\\n",
       "\t4 & 22 & Female & Single  & Student  & No Income       & Graduate      & 6 & 12.9473 & 77.5616 & 560019 & Yes & Positive \\\\\n",
       "\t5 & 22 & Male   & Single  & Student  & Below Rs.10000  & Post Graduate & 4 & 12.9850 & 77.5533 & 560010 & Yes & Positive \\\\\n",
       "\t6 & 27 & Female & Married & Employee & More than 50000 & Post Graduate & 2 & 12.9299 & 77.6848 & 560103 & Yes & Positive \\\\\n",
       "\\end{tabular}\n"
      ],
      "text/markdown": [
       "\n",
       "A data.frame: 6 × 12\n",
       "\n",
       "| <!--/--> | Age &lt;int&gt; | Gender &lt;fct&gt; | Marital.Status &lt;fct&gt; | Occupation &lt;fct&gt; | Monthly.Income &lt;fct&gt; | Educational.Qualifications &lt;fct&gt; | Family.size &lt;int&gt; | latitude &lt;dbl&gt; | longitude &lt;dbl&gt; | Pin.code &lt;int&gt; | Output &lt;fct&gt; | Feedback &lt;fct&gt; |\n",
       "|---|---|---|---|---|---|---|---|---|---|---|---|---|\n",
       "| 1 | 20 | Female | Single  | Student  | No Income       | Post Graduate | 4 | 12.9766 | 77.5993 | 560001 | Yes | Positive  |\n",
       "| 2 | 24 | Female | Single  | Student  | Below Rs.10000  | Graduate      | 3 | 12.9770 | 77.5773 | 560009 | Yes | Positive  |\n",
       "| 3 | 22 | Male   | Single  | Student  | Below Rs.10000  | Post Graduate | 3 | 12.9551 | 77.6593 | 560017 | Yes | Negative  |\n",
       "| 4 | 22 | Female | Single  | Student  | No Income       | Graduate      | 6 | 12.9473 | 77.5616 | 560019 | Yes | Positive  |\n",
       "| 5 | 22 | Male   | Single  | Student  | Below Rs.10000  | Post Graduate | 4 | 12.9850 | 77.5533 | 560010 | Yes | Positive  |\n",
       "| 6 | 27 | Female | Married | Employee | More than 50000 | Post Graduate | 2 | 12.9299 | 77.6848 | 560103 | Yes | Positive  |\n",
       "\n"
      ],
      "text/plain": [
       "  Age Gender Marital.Status Occupation Monthly.Income \n",
       "1 20  Female Single         Student    No Income      \n",
       "2 24  Female Single         Student    Below Rs.10000 \n",
       "3 22  Male   Single         Student    Below Rs.10000 \n",
       "4 22  Female Single         Student    No Income      \n",
       "5 22  Male   Single         Student    Below Rs.10000 \n",
       "6 27  Female Married        Employee   More than 50000\n",
       "  Educational.Qualifications Family.size latitude longitude Pin.code Output\n",
       "1 Post Graduate              4           12.9766  77.5993   560001   Yes   \n",
       "2 Graduate                   3           12.9770  77.5773   560009   Yes   \n",
       "3 Post Graduate              3           12.9551  77.6593   560017   Yes   \n",
       "4 Graduate                   6           12.9473  77.5616   560019   Yes   \n",
       "5 Post Graduate              4           12.9850  77.5533   560010   Yes   \n",
       "6 Post Graduate              2           12.9299  77.6848   560103   Yes   \n",
       "  Feedback \n",
       "1 Positive \n",
       "2 Positive \n",
       "3 Negative \n",
       "4 Positive \n",
       "5 Positive \n",
       "6 Positive "
      ]
     },
     "metadata": {},
     "output_type": "display_data"
    }
   ],
   "source": [
    "data <- read.csv(\"onlinefoods.csv\") |> select(-X)\n",
    "data$Gender <- as.factor(data$Gender)\n",
    "data$Marital.Status <- as.factor(data$Marital.Status)\n",
    "data$Occupation <- as.factor(data$Occupation)\n",
    "data$Monthly.Income <- as.factor(data$Monthly.Income)\n",
    "data$Educational.Qualifications <- as.factor(data$Educational.Qualifications)\n",
    "data$Output <- as.factor(data$Output)\n",
    "data$Feedback <- as.factor(data$Feedback)\n",
    "head(data)"
   ]
  },
  {
   "cell_type": "markdown",
   "id": "d39f03bf-516e-4ddd-8a74-61ce21b4cba3",
   "metadata": {},
   "source": [
    "### 2.2 Explortary Data Analysis\n",
    "For explortary data analysis, I want to find the most relavant explantory variable related to the response variable, the feedback of online food by customers. \n",
    "- By the histogram of age, customers age between 20 and 25 seems to more likely to order online food.\n",
    "- By the bar chart of gender, number of customers of different genders are mostly equal.\n",
    "- By the bar chart of martial status, people who are single are more likely to order online food.\n",
    "- By the bar chart of occupation, students are more likely to order online food.\n",
    "- By the bar chart of monthly income, people with low income prefer to order online food.\n",
    "- By the bar chart of education qualification, graduates and post graduates are more likely to order online food.\n",
    "- By the bar chart of output, more customers have order with current status yes.\n",
    "- By the bar chart of feedback, more people have positive experience when order online food."
   ]
  },
  {
   "cell_type": "code",
   "execution_count": 74,
   "id": "aeb43855-00d5-4d69-92e6-6659fd6a6bff",
   "metadata": {},
   "outputs": [
    {
     "data": {
      "image/png": "[encoded data removed]",
      "text/plain": [
       "Plot with title “gender”"
      ]
     },
     "metadata": {
      "image/png": {
       "height": 420,
       "width": 900
      }
     },
     "output_type": "display_data"
    },
    {
     "data": {
      "image/png": "[encoded data removed]",
      "text/plain": [
       "Plot with title “occupation”"
      ]
     },
     "metadata": {
      "image/png": {
       "height": 420,
       "width": 900
      }
     },
     "output_type": "display_data"
    },
    {
     "data": {
      "image/png": "[encoded data removed]",
      "text/plain": [
       "Plot with title “education qualifications”"
      ]
     },
     "metadata": {
      "image/png": {
       "height": 420,
       "width": 900
      }
     },
     "output_type": "display_data"
    },
    {
     "data": {
      "image/png": "[encoded data removed]",
      "text/plain": [
       "Plot with title “feedback”"
      ]
     },
     "metadata": {
      "image/png": {
       "height": 420,
       "width": 900
      }
     },
     "output_type": "display_data"
    }
   ],
   "source": [
    "par(mfrow = c(1,2))\n",
    "options(repr.plot.width=15)\n",
    "hist(data$Age, main = \"age\")\n",
    "plot(data$Gender, main = \"gender\")\n",
    "plot(data$Marital.Status, main = \"martial status\")\n",
    "plot(data$Occupation, main = \"occupation\")\n",
    "plot(data$Monthly.Income, main = \"monthly income\")\n",
    "plot(data$Educational.Qualifications, main = \"education qualifications\")\n",
    "plot(data$Output, main = \"output\")\n",
    "plot(data$Feedback, main = \"feedback\")"
   ]
  },
  {
   "cell_type": "markdown",
   "id": "eab7a831-e4fe-4660-a341-dec0a871b14c",
   "metadata": {},
   "source": [
    "### 2.3 Parameters Selection and Comparison\n",
    "Using function \"regsubsets()\", we can find best number of parameters to build a inference model by comparing the value of mallow's cp. In general, with smaller mallow's cp value, better the model fit."
   ]
  },
  {
   "cell_type": "code",
   "execution_count": 75,
   "id": "60673a62-170f-4f78-bfa8-7cd03aecede2",
   "metadata": {},
   "outputs": [
    {
     "data": {
      "text/html": [
       "<table class=\"dataframe\">\n",
       "<caption>A data.frame: 6 × 12</caption>\n",
       "<thead>\n",
       "\t<tr><th></th><th scope=col>Age</th><th scope=col>Gender</th><th scope=col>Marital.Status</th><th scope=col>Occupation</th><th scope=col>Monthly.Income</th><th scope=col>Educational.Qualifications</th><th scope=col>Family.size</th><th scope=col>latitude</th><th scope=col>longitude</th><th scope=col>Pin.code</th><th scope=col>Output</th><th scope=col>Feedback</th></tr>\n",
       "\t<tr><th></th><th scope=col>&lt;int&gt;</th><th scope=col>&lt;fct&gt;</th><th scope=col>&lt;dbl&gt;</th><th scope=col>&lt;dbl&gt;</th><th scope=col>&lt;dbl&gt;</th><th scope=col>&lt;dbl&gt;</th><th scope=col>&lt;int&gt;</th><th scope=col>&lt;dbl&gt;</th><th scope=col>&lt;dbl&gt;</th><th scope=col>&lt;int&gt;</th><th scope=col>&lt;fct&gt;</th><th scope=col>&lt;fct&gt;</th></tr>\n",
       "</thead>\n",
       "<tbody>\n",
       "\t<tr><th scope=row>1</th><td>20</td><td>Female</td><td>3</td><td>4</td><td>5</td><td>3</td><td>4</td><td>12.9766</td><td>77.5993</td><td>560001</td><td>Yes</td><td>Positive </td></tr>\n",
       "\t<tr><th scope=row>2</th><td>24</td><td>Female</td><td>3</td><td>4</td><td>3</td><td>1</td><td>3</td><td>12.9770</td><td>77.5773</td><td>560009</td><td>Yes</td><td>Positive </td></tr>\n",
       "\t<tr><th scope=row>3</th><td>22</td><td>Male  </td><td>3</td><td>4</td><td>3</td><td>3</td><td>3</td><td>12.9551</td><td>77.6593</td><td>560017</td><td>Yes</td><td>Negative </td></tr>\n",
       "\t<tr><th scope=row>4</th><td>22</td><td>Female</td><td>3</td><td>4</td><td>5</td><td>1</td><td>6</td><td>12.9473</td><td>77.5616</td><td>560019</td><td>Yes</td><td>Positive </td></tr>\n",
       "\t<tr><th scope=row>5</th><td>22</td><td>Male  </td><td>3</td><td>4</td><td>3</td><td>3</td><td>4</td><td>12.9850</td><td>77.5533</td><td>560010</td><td>Yes</td><td>Positive </td></tr>\n",
       "\t<tr><th scope=row>6</th><td>27</td><td>Female</td><td>1</td><td>1</td><td>4</td><td>3</td><td>2</td><td>12.9299</td><td>77.6848</td><td>560103</td><td>Yes</td><td>Positive </td></tr>\n",
       "</tbody>\n",
       "</table>\n"
      ],
      "text/latex": [
       "A data.frame: 6 × 12\n",
       "\\begin{tabular}{r|llllllllllll}\n",
       "  & Age & Gender & Marital.Status & Occupation & Monthly.Income & Educational.Qualifications & Family.size & latitude & longitude & Pin.code & Output & Feedback\\\\\n",
       "  & <int> & <fct> & <dbl> & <dbl> & <dbl> & <dbl> & <int> & <dbl> & <dbl> & <int> & <fct> & <fct>\\\\\n",
       "\\hline\n",
       "\t1 & 20 & Female & 3 & 4 & 5 & 3 & 4 & 12.9766 & 77.5993 & 560001 & Yes & Positive \\\\\n",
       "\t2 & 24 & Female & 3 & 4 & 3 & 1 & 3 & 12.9770 & 77.5773 & 560009 & Yes & Positive \\\\\n",
       "\t3 & 22 & Male   & 3 & 4 & 3 & 3 & 3 & 12.9551 & 77.6593 & 560017 & Yes & Negative \\\\\n",
       "\t4 & 22 & Female & 3 & 4 & 5 & 1 & 6 & 12.9473 & 77.5616 & 560019 & Yes & Positive \\\\\n",
       "\t5 & 22 & Male   & 3 & 4 & 3 & 3 & 4 & 12.9850 & 77.5533 & 560010 & Yes & Positive \\\\\n",
       "\t6 & 27 & Female & 1 & 1 & 4 & 3 & 2 & 12.9299 & 77.6848 & 560103 & Yes & Positive \\\\\n",
       "\\end{tabular}\n"
      ],
      "text/markdown": [
       "\n",
       "A data.frame: 6 × 12\n",
       "\n",
       "| <!--/--> | Age &lt;int&gt; | Gender &lt;fct&gt; | Marital.Status &lt;dbl&gt; | Occupation &lt;dbl&gt; | Monthly.Income &lt;dbl&gt; | Educational.Qualifications &lt;dbl&gt; | Family.size &lt;int&gt; | latitude &lt;dbl&gt; | longitude &lt;dbl&gt; | Pin.code &lt;int&gt; | Output &lt;fct&gt; | Feedback &lt;fct&gt; |\n",
       "|---|---|---|---|---|---|---|---|---|---|---|---|---|\n",
       "| 1 | 20 | Female | 3 | 4 | 5 | 3 | 4 | 12.9766 | 77.5993 | 560001 | Yes | Positive  |\n",
       "| 2 | 24 | Female | 3 | 4 | 3 | 1 | 3 | 12.9770 | 77.5773 | 560009 | Yes | Positive  |\n",
       "| 3 | 22 | Male   | 3 | 4 | 3 | 3 | 3 | 12.9551 | 77.6593 | 560017 | Yes | Negative  |\n",
       "| 4 | 22 | Female | 3 | 4 | 5 | 1 | 6 | 12.9473 | 77.5616 | 560019 | Yes | Positive  |\n",
       "| 5 | 22 | Male   | 3 | 4 | 3 | 3 | 4 | 12.9850 | 77.5533 | 560010 | Yes | Positive  |\n",
       "| 6 | 27 | Female | 1 | 1 | 4 | 3 | 2 | 12.9299 | 77.6848 | 560103 | Yes | Positive  |\n",
       "\n"
      ],
      "text/plain": [
       "  Age Gender Marital.Status Occupation Monthly.Income\n",
       "1 20  Female 3              4          5             \n",
       "2 24  Female 3              4          3             \n",
       "3 22  Male   3              4          3             \n",
       "4 22  Female 3              4          5             \n",
       "5 22  Male   3              4          3             \n",
       "6 27  Female 1              1          4             \n",
       "  Educational.Qualifications Family.size latitude longitude Pin.code Output\n",
       "1 3                          4           12.9766  77.5993   560001   Yes   \n",
       "2 1                          3           12.9770  77.5773   560009   Yes   \n",
       "3 3                          3           12.9551  77.6593   560017   Yes   \n",
       "4 1                          6           12.9473  77.5616   560019   Yes   \n",
       "5 3                          4           12.9850  77.5533   560010   Yes   \n",
       "6 3                          2           12.9299  77.6848   560103   Yes   \n",
       "  Feedback \n",
       "1 Positive \n",
       "2 Positive \n",
       "3 Negative \n",
       "4 Positive \n",
       "5 Positive \n",
       "6 Positive "
      ]
     },
     "metadata": {},
     "output_type": "display_data"
    }
   ],
   "source": [
    "data$Marital.Status <- as.numeric(data$Marital.Status)\n",
    "data$Occupation <- as.numeric(data$Occupation)\n",
    "data$Monthly.Income <- as.numeric(data$Monthly.Income)\n",
    "data$Educational.Qualifications <- as.numeric(data$Educational.Qualifications)\n",
    "head(data)"
   ]
  },
  {
   "cell_type": "markdown",
   "id": "3b3fc265-5f65-405f-887c-24636fbe1828",
   "metadata": {},
   "source": [
    "Some of the categorical variables are change to distinct numerical variables, which may be helpful in building the inference model.\n",
    "- For marital status, 1 is married, 2 is prefer not to say, and 3 is single.\n",
    "- For occupation, 1 is employee, 2 is house wife, 3 is self emplyeed, and 4 is student.\n",
    "- For monthly income, 1 is 10001 to 25000, 2 is 25001 to 50000, 3 is below 10000, 4 is more than 50000, and 5 is no income.\n",
    "- For education qualifications, 1 is graduate, 2 is Ph.D, 3 is post graduate, 4 is school, and 5 is uneducated.\n",
    "\n",
    "I will use regsubsets function to find the most appropriate number of parameters to build the inference model. Then by comparing the value of mallow's cp, explanatory variables with lowest mallow's cp will be selected to build the inference moderl."
   ]
  },
  {
   "cell_type": "code",
   "execution_count": 40,
   "id": "d4112024-4a8e-463f-b872-4994bae04564",
   "metadata": {},
   "outputs": [
    {
     "data": {
      "text/plain": [
       "Subset selection object\n",
       "Call: regsubsets.formula(Feedback ~ ., data = data, method = \"forward\")\n",
       "11 Variables  (and intercept)\n",
       "                           Forced in Forced out\n",
       "Age                            FALSE      FALSE\n",
       "GenderMale                     FALSE      FALSE\n",
       "Marital.Status                 FALSE      FALSE\n",
       "Occupation                     FALSE      FALSE\n",
       "Monthly.Income                 FALSE      FALSE\n",
       "Educational.Qualifications     FALSE      FALSE\n",
       "Family.size                    FALSE      FALSE\n",
       "latitude                       FALSE      FALSE\n",
       "longitude                      FALSE      FALSE\n",
       "Pin.code                       FALSE      FALSE\n",
       "OutputYes                      FALSE      FALSE\n",
       "1 subsets of each size up to 8\n",
       "Selection Algorithm: forward\n",
       "         Age GenderMale Marital.Status Occupation Monthly.Income\n",
       "1  ( 1 ) \" \" \" \"        \" \"            \" \"        \" \"           \n",
       "2  ( 1 ) \" \" \" \"        \" \"            \" \"        \"*\"           \n",
       "3  ( 1 ) \" \" \"*\"        \" \"            \" \"        \"*\"           \n",
       "4  ( 1 ) \" \" \"*\"        \" \"            \" \"        \"*\"           \n",
       "5  ( 1 ) \" \" \"*\"        \" \"            \" \"        \"*\"           \n",
       "6  ( 1 ) \" \" \"*\"        \" \"            \" \"        \"*\"           \n",
       "7  ( 1 ) \"*\" \"*\"        \" \"            \" \"        \"*\"           \n",
       "8  ( 1 ) \"*\" \"*\"        \" \"            \"*\"        \"*\"           \n",
       "         Educational.Qualifications Family.size latitude longitude Pin.code\n",
       "1  ( 1 ) \" \"                        \" \"         \" \"      \" \"       \" \"     \n",
       "2  ( 1 ) \" \"                        \" \"         \" \"      \" \"       \" \"     \n",
       "3  ( 1 ) \" \"                        \" \"         \" \"      \" \"       \" \"     \n",
       "4  ( 1 ) \" \"                        \" \"         \" \"      \"*\"       \" \"     \n",
       "5  ( 1 ) \" \"                        \" \"         \"*\"      \"*\"       \" \"     \n",
       "6  ( 1 ) \"*\"                        \" \"         \"*\"      \"*\"       \" \"     \n",
       "7  ( 1 ) \"*\"                        \" \"         \"*\"      \"*\"       \" \"     \n",
       "8  ( 1 ) \"*\"                        \" \"         \"*\"      \"*\"       \" \"     \n",
       "         OutputYes\n",
       "1  ( 1 ) \"*\"      \n",
       "2  ( 1 ) \"*\"      \n",
       "3  ( 1 ) \"*\"      \n",
       "4  ( 1 ) \"*\"      \n",
       "5  ( 1 ) \"*\"      \n",
       "6  ( 1 ) \"*\"      \n",
       "7  ( 1 ) \"*\"      \n",
       "8  ( 1 ) \"*\"      "
      ]
     },
     "metadata": {},
     "output_type": "display_data"
    }
   ],
   "source": [
    "data_sel <- regsubsets(Feedback~.,data = data, method = \"forward\")\n",
    "summary(data_sel)"
   ]
  },
  {
   "cell_type": "code",
   "execution_count": 41,
   "id": "6081652e-1c14-4c18-9ad5-9d0538254eda",
   "metadata": {},
   "outputs": [
    {
     "data": {
      "text/html": [
       "<style>\n",
       ".list-inline {list-style: none; margin:0; padding: 0}\n",
       ".list-inline>li {display: inline-block}\n",
       ".list-inline>li:not(:last-child)::after {content: \"\\00b7\"; padding: 0 .5ex}\n",
       "</style>\n",
       "<ol class=list-inline><li>'GenderMale'</li><li>'Monthly.Income'</li><li>'OutputYes'</li></ol>\n"
      ],
      "text/latex": [
       "\\begin{enumerate*}\n",
       "\\item 'GenderMale'\n",
       "\\item 'Monthly.Income'\n",
       "\\item 'OutputYes'\n",
       "\\end{enumerate*}\n"
      ],
      "text/markdown": [
       "1. 'GenderMale'\n",
       "2. 'Monthly.Income'\n",
       "3. 'OutputYes'\n",
       "\n",
       "\n"
      ],
      "text/plain": [
       "[1] \"GenderMale\"     \"Monthly.Income\" \"OutputYes\"     "
      ]
     },
     "metadata": {},
     "output_type": "display_data"
    }
   ],
   "source": [
    "cp_min = which.min(summary(data_sel)$cp) \n",
    "selected_var <- names(coef(data_sel, cp_min))[-1]\n",
    "selected_var"
   ]
  },
  {
   "cell_type": "markdown",
   "id": "35b888a9-8862-4156-b2d3-c7743f5871a6",
   "metadata": {},
   "source": [
    "By using regsubsets function and comparing the value of mallow's cp, we can see that model with 3 parameters are the best for building the inference model of feedback. These three parameters are \"gender\", \"monthly income\", and \"output\"."
   ]
  },
  {
   "cell_type": "markdown",
   "id": "98c35b37-3497-4ef7-9870-299ddf3ae54d",
   "metadata": {},
   "source": [
    "## 3 Methods and Plan\n",
    "In this individual assignment, it is supposed to find the relationship between feedback and other explanatory variables, and then build a inference model. As above, I propose to use logistic regression to build a model since response variable is binary. Furthermore, hypothesis test will be applied to test whether these three variables are relavant to feedback.\n",
    "### 3.1 Hypothesis Test\n",
    "model: logit(feedback)=$\\beta_0$+$\\beta_1$*gender+$\\beta_2$*monthly income+$\\beta_3$*output\n",
    "\n",
    "$H_0$ : $\\beta_1=\\beta_2=\\beta_3=0$\n",
    "\n",
    "$H_A$ : either one of $\\beta_0,\\beta_1,\\beta_3\\neq 0$\n",
    "\n",
    "As well, a 95% confidence interval will be built for each variable.\n",
    "\n",
    "**significance level**\n",
    "\n",
    "The significance level is epected to be 0.05.\n",
    "\n",
    "**epected to find**\n",
    "* it is epected to fail in rejecting null hypothesis, which means that feedback of customers are not related to other factors.\n",
    "### 3.2 Logistic regression"
   ]
  },
  {
   "cell_type": "code",
   "execution_count": 83,
   "id": "e395645b-1034-4b83-83eb-cfacf9670d2e",
   "metadata": {},
   "outputs": [
    {
     "data": {
      "text/plain": [
       "\n",
       "Call:\n",
       "glm(formula = Feedback ~ Gender + Monthly.Income + Output, family = binomial, \n",
       "    data = data)\n",
       "\n",
       "Coefficients:\n",
       "                              Estimate Std. Error z value Pr(>|z|)    \n",
       "(Intercept)                    -0.2420     0.5037  -0.480   0.6309    \n",
       "GenderMale                     -0.5753     0.3591  -1.602   0.1092    \n",
       "Monthly.Income25001 to 50000   -0.2056     0.5693  -0.361   0.7180    \n",
       "Monthly.IncomeBelow Rs.10000   -1.7898     0.6881  -2.601   0.0093 ** \n",
       "Monthly.IncomeMore than 50000   0.4101     0.6115   0.671   0.5024    \n",
       "Monthly.IncomeNo Income         0.5859     0.5502   1.065   0.2870    \n",
       "OutputYes                       3.3539     0.3702   9.059   <2e-16 ***\n",
       "---\n",
       "Signif. codes:  0 ‘***’ 0.001 ‘**’ 0.01 ‘*’ 0.05 ‘.’ 0.1 ‘ ’ 1\n",
       "\n",
       "(Dispersion parameter for binomial family taken to be 1)\n",
       "\n",
       "    Null deviance: 369.30  on 387  degrees of freedom\n",
       "Residual deviance: 233.01  on 381  degrees of freedom\n",
       "AIC: 247.01\n",
       "\n",
       "Number of Fisher Scoring iterations: 6\n"
      ]
     },
     "metadata": {},
     "output_type": "display_data"
    }
   ],
   "source": [
    "data <- read.csv(\"onlinefoods.csv\") |> select(-X)\n",
    "data$Gender <- as.factor(data$Gender)\n",
    "data$Monthly.Income <- as.factor(data$Monthly.Income)\n",
    "data$Output <- as.factor(data$Output)\n",
    "data$Feedback <- ifelse(data$Feedback == \"Positive\", 1,0)\n",
    "r <- glm(Feedback~Gender+Monthly.Income+Output, data = data, family = binomial)\n",
    "summary(r)"
   ]
  },
  {
   "cell_type": "markdown",
   "id": "944beafe-3f85-4528-9d1f-d02b539d8f4d",
   "metadata": {},
   "source": [
    "By the logistic regression, we can find following model:\n",
    "* feedback = $\\frac{1}{1+e^{-(-0.2420-0.5753*GenderMale-0.2056*Monthly.Income25001 to 50000-1.7898*Monthly.IncomeBelow Rs.10000+0.4101*Monthly.IncomeMore than 50000+0.5859*Monthly.IncomeNo Income +3.3539*OutputYes})}$\n",
    "### 3.3 Implementation of Logistic Model"
   ]
  },
  {
   "cell_type": "code",
   "execution_count": 87,
   "id": "6f4cc984-3d27-4c09-a737-98d1a30201a1",
   "metadata": {},
   "outputs": [
    {
     "data": {
      "text/html": [
       "<table class=\"dataframe\">\n",
       "<caption>A tibble: 7 × 8</caption>\n",
       "<thead>\n",
       "\t<tr><th scope=col>term</th><th scope=col>estimate</th><th scope=col>std.error</th><th scope=col>statistic</th><th scope=col>p.value</th><th scope=col>conf.low</th><th scope=col>conf.high</th><th scope=col>reject.H0</th></tr>\n",
       "\t<tr><th scope=col>&lt;chr&gt;</th><th scope=col>&lt;dbl&gt;</th><th scope=col>&lt;dbl&gt;</th><th scope=col>&lt;dbl&gt;</th><th scope=col>&lt;dbl&gt;</th><th scope=col>&lt;dbl&gt;</th><th scope=col>&lt;dbl&gt;</th><th scope=col>&lt;lgl&gt;</th></tr>\n",
       "</thead>\n",
       "<tbody>\n",
       "\t<tr><td>(Intercept)                  </td><td> 0.7850829</td><td>0.5036581</td><td>-0.4804172</td><td>6.309307e-01</td><td> 0.29107966</td><td> 2.136446</td><td>FALSE</td></tr>\n",
       "\t<tr><td>GenderMale                   </td><td> 0.5625275</td><td>0.3591274</td><td>-1.6019810</td><td>1.091598e-01</td><td> 0.27317544</td><td> 1.123758</td><td>FALSE</td></tr>\n",
       "\t<tr><td>Monthly.Income25001 to 50000 </td><td> 0.8141470</td><td>0.5693039</td><td>-0.3611681</td><td>7.179738e-01</td><td> 0.26215290</td><td> 2.473613</td><td>FALSE</td></tr>\n",
       "\t<tr><td>Monthly.IncomeBelow Rs.10000 </td><td> 0.1669891</td><td>0.6881292</td><td>-2.6010037</td><td>9.295145e-03</td><td> 0.04227792</td><td> 0.635966</td><td> TRUE</td></tr>\n",
       "\t<tr><td>Monthly.IncomeMore than 50000</td><td> 1.5070257</td><td>0.6115085</td><td> 0.6706987</td><td>5.024125e-01</td><td> 0.45181832</td><td> 5.035920</td><td>FALSE</td></tr>\n",
       "\t<tr><td>Monthly.IncomeNo Income      </td><td> 1.7966281</td><td>0.5502473</td><td> 1.0648151</td><td>2.869596e-01</td><td> 0.59851163</td><td> 5.236733</td><td>FALSE</td></tr>\n",
       "\t<tr><td>OutputYes                    </td><td>28.6131301</td><td>0.3702064</td><td> 9.0594485</td><td>1.311118e-19</td><td>14.26382995</td><td>61.350325</td><td> TRUE</td></tr>\n",
       "</tbody>\n",
       "</table>\n"
      ],
      "text/latex": [
       "A tibble: 7 × 8\n",
       "\\begin{tabular}{llllllll}\n",
       " term & estimate & std.error & statistic & p.value & conf.low & conf.high & reject.H0\\\\\n",
       " <chr> & <dbl> & <dbl> & <dbl> & <dbl> & <dbl> & <dbl> & <lgl>\\\\\n",
       "\\hline\n",
       "\t (Intercept)                   &  0.7850829 & 0.5036581 & -0.4804172 & 6.309307e-01 &  0.29107966 &  2.136446 & FALSE\\\\\n",
       "\t GenderMale                    &  0.5625275 & 0.3591274 & -1.6019810 & 1.091598e-01 &  0.27317544 &  1.123758 & FALSE\\\\\n",
       "\t Monthly.Income25001 to 50000  &  0.8141470 & 0.5693039 & -0.3611681 & 7.179738e-01 &  0.26215290 &  2.473613 & FALSE\\\\\n",
       "\t Monthly.IncomeBelow Rs.10000  &  0.1669891 & 0.6881292 & -2.6010037 & 9.295145e-03 &  0.04227792 &  0.635966 &  TRUE\\\\\n",
       "\t Monthly.IncomeMore than 50000 &  1.5070257 & 0.6115085 &  0.6706987 & 5.024125e-01 &  0.45181832 &  5.035920 & FALSE\\\\\n",
       "\t Monthly.IncomeNo Income       &  1.7966281 & 0.5502473 &  1.0648151 & 2.869596e-01 &  0.59851163 &  5.236733 & FALSE\\\\\n",
       "\t OutputYes                     & 28.6131301 & 0.3702064 &  9.0594485 & 1.311118e-19 & 14.26382995 & 61.350325 &  TRUE\\\\\n",
       "\\end{tabular}\n"
      ],
      "text/markdown": [
       "\n",
       "A tibble: 7 × 8\n",
       "\n",
       "| term &lt;chr&gt; | estimate &lt;dbl&gt; | std.error &lt;dbl&gt; | statistic &lt;dbl&gt; | p.value &lt;dbl&gt; | conf.low &lt;dbl&gt; | conf.high &lt;dbl&gt; | reject.H0 &lt;lgl&gt; |\n",
       "|---|---|---|---|---|---|---|---|\n",
       "| (Intercept)                   |  0.7850829 | 0.5036581 | -0.4804172 | 6.309307e-01 |  0.29107966 |  2.136446 | FALSE |\n",
       "| GenderMale                    |  0.5625275 | 0.3591274 | -1.6019810 | 1.091598e-01 |  0.27317544 |  1.123758 | FALSE |\n",
       "| Monthly.Income25001 to 50000  |  0.8141470 | 0.5693039 | -0.3611681 | 7.179738e-01 |  0.26215290 |  2.473613 | FALSE |\n",
       "| Monthly.IncomeBelow Rs.10000  |  0.1669891 | 0.6881292 | -2.6010037 | 9.295145e-03 |  0.04227792 |  0.635966 |  TRUE |\n",
       "| Monthly.IncomeMore than 50000 |  1.5070257 | 0.6115085 |  0.6706987 | 5.024125e-01 |  0.45181832 |  5.035920 | FALSE |\n",
       "| Monthly.IncomeNo Income       |  1.7966281 | 0.5502473 |  1.0648151 | 2.869596e-01 |  0.59851163 |  5.236733 | FALSE |\n",
       "| OutputYes                     | 28.6131301 | 0.3702064 |  9.0594485 | 1.311118e-19 | 14.26382995 | 61.350325 |  TRUE |\n",
       "\n"
      ],
      "text/plain": [
       "  term                          estimate   std.error statistic  p.value     \n",
       "1 (Intercept)                    0.7850829 0.5036581 -0.4804172 6.309307e-01\n",
       "2 GenderMale                     0.5625275 0.3591274 -1.6019810 1.091598e-01\n",
       "3 Monthly.Income25001 to 50000   0.8141470 0.5693039 -0.3611681 7.179738e-01\n",
       "4 Monthly.IncomeBelow Rs.10000   0.1669891 0.6881292 -2.6010037 9.295145e-03\n",
       "5 Monthly.IncomeMore than 50000  1.5070257 0.6115085  0.6706987 5.024125e-01\n",
       "6 Monthly.IncomeNo Income        1.7966281 0.5502473  1.0648151 2.869596e-01\n",
       "7 OutputYes                     28.6131301 0.3702064  9.0594485 1.311118e-19\n",
       "  conf.low    conf.high reject.H0\n",
       "1  0.29107966  2.136446 FALSE    \n",
       "2  0.27317544  1.123758 FALSE    \n",
       "3  0.26215290  2.473613 FALSE    \n",
       "4  0.04227792  0.635966  TRUE    \n",
       "5  0.45181832  5.035920 FALSE    \n",
       "6  0.59851163  5.236733 FALSE    \n",
       "7 14.26382995 61.350325  TRUE    "
      ]
     },
     "metadata": {},
     "output_type": "display_data"
    }
   ],
   "source": [
    "tidy(r, conf.int = TRUE, conf.level = 0.95, exponentiate = TRUE) %>%\n",
    "    mutate(reject.H0 = ifelse(p.value <= 0.05, TRUE, FALSE))"
   ]
  },
  {
   "cell_type": "markdown",
   "id": "3048f3f3-5f04-4d5e-b2c5-11a991d6354f",
   "metadata": {},
   "source": [
    "By calculating p-values and 95% confidence interval, it is obvious that only if a person with monthly income below 10000 or the status of the food delivery is yes has significant probability that will give a positive feedback (only the p-values of monthly income below 10000 and output yes are lower than significance level 0.05)."
   ]
  },
  {
   "cell_type": "markdown",
   "id": "3cb2c36a-8445-480d-91f7-c76ac035c402",
   "metadata": {},
   "source": [
    "## 4 Results and Discussion\n",
    "### 4.1 Conclusion\n",
    "In conclusion, people with monthly income below 10000 and current online food status yes, are more willing to give a positive feedback of their online food order service. In contrast, other factors, such as gender and marital status, has little influency on customers' willingness of feedback. \n",
    "### 4.2 Limitations\n",
    "There are some limitations of this research project as well. First of all, it is suggested to calculate correlation between response variable and explanatory variables, which can provides more evidence in selecting parameters in building inference model. Secondly, this dataset only contains information of customers who have ordered online food from platforms, lacks information of ordering food in other ways, for example, throgh phone calling. At last, logistic regression may not be the most suitable model for inference, other regression model, such as LASSO, might provide different solution.\n",
    "### 4.3 Discussion\n",
    "There may be more factors which influences the feedback of online food order service, which are not contained in this dataset. For future research, it is possible to find a more convincing inference model of customers' feedback. Furthermore, it is also attractive to find which factors affect people whether or not to order food online."
   ]
  }
 ],
 "metadata": {
  "kernelspec": {
   "display_name": "R",
   "language": "R",
   "name": "ir"
  },
  "language_info": {
   "codemirror_mode": "r",
   "file_extension": ".r",
   "mimetype": "text/x-r-source",
   "name": "R",
   "pygments_lexer": "r",
   "version": "4.3.1"
  }
 },
 "nbformat": 4,
 "nbformat_minor": 5
}
